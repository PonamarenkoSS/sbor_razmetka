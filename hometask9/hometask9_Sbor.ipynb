{
 "cells": [
  {
   "cell_type": "markdown",
   "id": "caa6104c-87c2-4f49-8712-1cd14202e208",
   "metadata": {},
   "source": [
    "Задание 1.\n",
    "Выберите датасет, который имеет отношение к вашей области интересов или исследований. Датасет должен содержать неструктурированные данные, требующие разметки для решения конкретной задачи, например, анализа настроений или распознавания именованных сущностей.\n",
    "\n",
    "Задание 2.\n",
    "Выполните разметку на основе правил (rule-based labeling) на подмножестве выбранного датасета. Разработайте и реализуйте набор правил или условий, которые позволят автоматически присваивать метки данным на основе определенных шаблонов или критериев.\n",
    "\n",
    "Задача 3.\n",
    "Выполните разметку вручную отдельного подмножества выбранного датасета с помощью выбранного вами инструмента разметки.\n",
    "\n",
    "Задача 4.\n",
    "Объедините данные, размеченные вручную, с данными, размеченными на основе правил. Объедините два подмножества размеченных данных в один набор данных, сохранив при этом соответствующую структуру и целостность.\n",
    "\n",
    "Задача 5.\n",
    "Обучите модель машинного обучения, используя объединенный набор размеченных данных. Разделите датасет на обучающий и тестовый наборы и используйте обучающий набор для обучения модели.\n",
    "\n",
    "Задача 6.\n",
    "Оценить эффективность обученной модели на тестовом датасете. Используйте подходящие метрики оценки. Интерпретируйте результаты и проанализируйте эффективность модели в решении задачи разметки."
   ]
  },
  {
   "cell_type": "code",
   "execution_count": 8,
   "id": "b1488a44-101c-4c20-86f3-7679dd5ae3a3",
   "metadata": {},
   "outputs": [],
   "source": [
    "import pandas as pd\n",
    "import seaborn as sns"
   ]
  },
  {
   "cell_type": "code",
   "execution_count": 29,
   "id": "a09d7301-1dd7-4e1f-b15c-a19909d53ac6",
   "metadata": {},
   "outputs": [],
   "source": [
    "from sklearn.model_selection import train_test_split # Для разделения данных на обучающую и тестовую выборку\n",
    "from sklearn.feature_extraction.text import TfidfVectorizer # для преобразования текста в вектор\n",
    "from sklearn.linear_model import LogisticRegression # использование модели логистической регрессии\n",
    "from sklearn.metrics import accuracy_score, classification_report # оценка производительности модели\n",
    "from sklearn.pipeline import Pipeline # конвеер обработки данных"
   ]
  },
  {
   "cell_type": "code",
   "execution_count": 34,
   "id": "169a0463-bf9a-4dfb-842e-5f1cc7cdd157",
   "metadata": {},
   "outputs": [],
   "source": [
    "from sklearn.preprocessing import LabelEncoder"
   ]
  },
  {
   "cell_type": "code",
   "execution_count": 2,
   "id": "d0264228-bdc4-47e2-85e6-472bba416e02",
   "metadata": {},
   "outputs": [],
   "source": [
    "df = pd.read_csv('/Users/svetlanaponamarenko/Downloads/archive (1)/Drug Reviews (Drugs.com)/drugsComTrain_raw.csv')"
   ]
  },
  {
   "cell_type": "code",
   "execution_count": 3,
   "id": "c0cb476f-a3da-47a5-8b2e-d85fb11e678d",
   "metadata": {},
   "outputs": [
    {
     "name": "stdout",
     "output_type": "stream",
     "text": [
      "<class 'pandas.core.frame.DataFrame'>\n",
      "RangeIndex: 161297 entries, 0 to 161296\n",
      "Data columns (total 7 columns):\n",
      " #   Column       Non-Null Count   Dtype  \n",
      "---  ------       --------------   -----  \n",
      " 0   Unnamed: 0   161297 non-null  int64  \n",
      " 1   drugName     161297 non-null  object \n",
      " 2   condition    160398 non-null  object \n",
      " 3   review       161297 non-null  object \n",
      " 4   rating       161297 non-null  float64\n",
      " 5   date         161297 non-null  object \n",
      " 6   usefulCount  161297 non-null  int64  \n",
      "dtypes: float64(1), int64(2), object(4)\n",
      "memory usage: 8.6+ MB\n"
     ]
    }
   ],
   "source": [
    "df.info()"
   ]
  },
  {
   "cell_type": "code",
   "execution_count": 4,
   "id": "a2099a5c-7373-4385-999c-a45357de5c57",
   "metadata": {},
   "outputs": [
    {
     "data": {
      "text/html": [
       "<div>\n",
       "<style scoped>\n",
       "    .dataframe tbody tr th:only-of-type {\n",
       "        vertical-align: middle;\n",
       "    }\n",
       "\n",
       "    .dataframe tbody tr th {\n",
       "        vertical-align: top;\n",
       "    }\n",
       "\n",
       "    .dataframe thead th {\n",
       "        text-align: right;\n",
       "    }\n",
       "</style>\n",
       "<table border=\"1\" class=\"dataframe\">\n",
       "  <thead>\n",
       "    <tr style=\"text-align: right;\">\n",
       "      <th></th>\n",
       "      <th>Unnamed: 0</th>\n",
       "      <th>drugName</th>\n",
       "      <th>condition</th>\n",
       "      <th>review</th>\n",
       "      <th>rating</th>\n",
       "      <th>date</th>\n",
       "      <th>usefulCount</th>\n",
       "    </tr>\n",
       "  </thead>\n",
       "  <tbody>\n",
       "    <tr>\n",
       "      <th>0</th>\n",
       "      <td>206461</td>\n",
       "      <td>Valsartan</td>\n",
       "      <td>Left Ventricular Dysfunction</td>\n",
       "      <td>\"It has no side effect, I take it in combinati...</td>\n",
       "      <td>9.0</td>\n",
       "      <td>May 20, 2012</td>\n",
       "      <td>27</td>\n",
       "    </tr>\n",
       "    <tr>\n",
       "      <th>1</th>\n",
       "      <td>95260</td>\n",
       "      <td>Guanfacine</td>\n",
       "      <td>ADHD</td>\n",
       "      <td>\"My son is halfway through his fourth week of ...</td>\n",
       "      <td>8.0</td>\n",
       "      <td>April 27, 2010</td>\n",
       "      <td>192</td>\n",
       "    </tr>\n",
       "    <tr>\n",
       "      <th>2</th>\n",
       "      <td>92703</td>\n",
       "      <td>Lybrel</td>\n",
       "      <td>Birth Control</td>\n",
       "      <td>\"I used to take another oral contraceptive, wh...</td>\n",
       "      <td>5.0</td>\n",
       "      <td>December 14, 2009</td>\n",
       "      <td>17</td>\n",
       "    </tr>\n",
       "    <tr>\n",
       "      <th>3</th>\n",
       "      <td>138000</td>\n",
       "      <td>Ortho Evra</td>\n",
       "      <td>Birth Control</td>\n",
       "      <td>\"This is my first time using any form of birth...</td>\n",
       "      <td>8.0</td>\n",
       "      <td>November 3, 2015</td>\n",
       "      <td>10</td>\n",
       "    </tr>\n",
       "    <tr>\n",
       "      <th>4</th>\n",
       "      <td>35696</td>\n",
       "      <td>Buprenorphine / naloxone</td>\n",
       "      <td>Opiate Dependence</td>\n",
       "      <td>\"Suboxone has completely turned my life around...</td>\n",
       "      <td>9.0</td>\n",
       "      <td>November 27, 2016</td>\n",
       "      <td>37</td>\n",
       "    </tr>\n",
       "  </tbody>\n",
       "</table>\n",
       "</div>"
      ],
      "text/plain": [
       "   Unnamed: 0                  drugName                     condition  \\\n",
       "0      206461                 Valsartan  Left Ventricular Dysfunction   \n",
       "1       95260                Guanfacine                          ADHD   \n",
       "2       92703                    Lybrel                 Birth Control   \n",
       "3      138000                Ortho Evra                 Birth Control   \n",
       "4       35696  Buprenorphine / naloxone             Opiate Dependence   \n",
       "\n",
       "                                              review  rating  \\\n",
       "0  \"It has no side effect, I take it in combinati...     9.0   \n",
       "1  \"My son is halfway through his fourth week of ...     8.0   \n",
       "2  \"I used to take another oral contraceptive, wh...     5.0   \n",
       "3  \"This is my first time using any form of birth...     8.0   \n",
       "4  \"Suboxone has completely turned my life around...     9.0   \n",
       "\n",
       "                date  usefulCount  \n",
       "0       May 20, 2012           27  \n",
       "1     April 27, 2010          192  \n",
       "2  December 14, 2009           17  \n",
       "3   November 3, 2015           10  \n",
       "4  November 27, 2016           37  "
      ]
     },
     "execution_count": 4,
     "metadata": {},
     "output_type": "execute_result"
    }
   ],
   "source": [
    "df.head()"
   ]
  },
  {
   "cell_type": "code",
   "execution_count": 9,
   "id": "867f93c1-2c99-47c7-a34c-a4f108a2752f",
   "metadata": {},
   "outputs": [
    {
     "data": {
      "image/png": "[encoded data removed]",
      "text/plain": [
       "<Figure size 800x600 with 1 Axes>"
      ]
     },
     "metadata": {},
     "output_type": "display_data"
    }
   ],
   "source": [
    "plt.figure(figsize=(8, 6))\n",
    "sns.histplot(df['rating'], kde=True, color='skyblue')\n",
    "plt.title('Рейтинг')\n",
    "plt.show()"
   ]
  },
  {
   "cell_type": "code",
   "execution_count": 15,
   "id": "e0841139-e0a0-4de8-9859-243b6c713b2f",
   "metadata": {},
   "outputs": [],
   "source": [
    "subset = df.sample(frac=0.00025) # создаем случайную подвыборку из исходного DF"
   ]
  },
  {
   "cell_type": "code",
   "execution_count": 16,
   "id": "a5c59ad9-a84c-43c2-88e7-f53797d5620a",
   "metadata": {},
   "outputs": [
    {
     "name": "stdout",
     "output_type": "stream",
     "text": [
      "<class 'pandas.core.frame.DataFrame'>\n",
      "Index: 40 entries, 101356 to 110172\n",
      "Data columns (total 7 columns):\n",
      " #   Column       Non-Null Count  Dtype  \n",
      "---  ------       --------------  -----  \n",
      " 0   Unnamed: 0   40 non-null     int64  \n",
      " 1   drugName     40 non-null     object \n",
      " 2   condition    40 non-null     object \n",
      " 3   review       40 non-null     object \n",
      " 4   rating       40 non-null     float64\n",
      " 5   date         40 non-null     object \n",
      " 6   usefulCount  40 non-null     int64  \n",
      "dtypes: float64(1), int64(2), object(4)\n",
      "memory usage: 2.5+ KB\n"
     ]
    }
   ],
   "source": [
    "subset.info()"
   ]
  },
  {
   "cell_type": "code",
   "execution_count": 17,
   "id": "1905572a-39fa-4a35-a8a4-86c2f6e6a512",
   "metadata": {},
   "outputs": [],
   "source": [
    "subset.to_csv('subset_ht9.csv', index=False)"
   ]
  },
  {
   "cell_type": "code",
   "execution_count": 18,
   "id": "f92cd026-5120-4c99-850a-4518f007d608",
   "metadata": {},
   "outputs": [],
   "source": [
    "subset = pd.read_csv('/Users/svetlanaponamarenko/Downloads/project-4-at-2024-06-11-18-59-6fa59219.csv')"
   ]
  },
  {
   "cell_type": "code",
   "execution_count": 20,
   "id": "03081042-a0b4-46fc-a06a-b4e7041cb8d9",
   "metadata": {},
   "outputs": [
    {
     "data": {
      "text/html": [
       "<div>\n",
       "<style scoped>\n",
       "    .dataframe tbody tr th:only-of-type {\n",
       "        vertical-align: middle;\n",
       "    }\n",
       "\n",
       "    .dataframe tbody tr th {\n",
       "        vertical-align: top;\n",
       "    }\n",
       "\n",
       "    .dataframe thead th {\n",
       "        text-align: right;\n",
       "    }\n",
       "</style>\n",
       "<table border=\"1\" class=\"dataframe\">\n",
       "  <thead>\n",
       "    <tr style=\"text-align: right;\">\n",
       "      <th></th>\n",
       "      <th>Unnamed: 0</th>\n",
       "      <th>annotation_id</th>\n",
       "      <th>annotator</th>\n",
       "      <th>condition</th>\n",
       "      <th>created_at</th>\n",
       "      <th>date</th>\n",
       "      <th>drugName</th>\n",
       "      <th>id</th>\n",
       "      <th>lead_time</th>\n",
       "      <th>rating</th>\n",
       "      <th>review</th>\n",
       "      <th>sentiment</th>\n",
       "      <th>updated_at</th>\n",
       "      <th>usefulCount</th>\n",
       "    </tr>\n",
       "  </thead>\n",
       "  <tbody>\n",
       "    <tr>\n",
       "      <th>0</th>\n",
       "      <td>23386</td>\n",
       "      <td>13</td>\n",
       "      <td>1</td>\n",
       "      <td>Opiate Withdrawal</td>\n",
       "      <td>2024-06-11T18:53:06.253133Z</td>\n",
       "      <td>August 15, 2013</td>\n",
       "      <td>Methadone</td>\n",
       "      <td>93</td>\n",
       "      <td>3.238</td>\n",
       "      <td>10.0</td>\n",
       "      <td>\"I&amp;#039;ve been taking Methadone disks for 5 y...</td>\n",
       "      <td>high</td>\n",
       "      <td>2024-06-11T18:53:06.253156Z</td>\n",
       "      <td>48</td>\n",
       "    </tr>\n",
       "    <tr>\n",
       "      <th>1</th>\n",
       "      <td>134882</td>\n",
       "      <td>14</td>\n",
       "      <td>1</td>\n",
       "      <td>Renal Cell Carcinoma</td>\n",
       "      <td>2024-06-11T18:53:35.600856Z</td>\n",
       "      <td>August 4, 2017</td>\n",
       "      <td>Pazopanib</td>\n",
       "      <td>94</td>\n",
       "      <td>3.726</td>\n",
       "      <td>9.0</td>\n",
       "      <td>\"Update-tolerating Votrient 400mg. Last 2 scan...</td>\n",
       "      <td>high</td>\n",
       "      <td>2024-06-11T18:53:35.600891Z</td>\n",
       "      <td>1</td>\n",
       "    </tr>\n",
       "    <tr>\n",
       "      <th>2</th>\n",
       "      <td>215839</td>\n",
       "      <td>15</td>\n",
       "      <td>1</td>\n",
       "      <td>Birth Control</td>\n",
       "      <td>2024-06-11T18:53:43.534220Z</td>\n",
       "      <td>August 19, 2016</td>\n",
       "      <td>Copper</td>\n",
       "      <td>95</td>\n",
       "      <td>2.278</td>\n",
       "      <td>1.0</td>\n",
       "      <td>\"My first expulsion happened two days after in...</td>\n",
       "      <td>low</td>\n",
       "      <td>2024-06-11T18:53:43.534250Z</td>\n",
       "      <td>1</td>\n",
       "    </tr>\n",
       "    <tr>\n",
       "      <th>3</th>\n",
       "      <td>187368</td>\n",
       "      <td>16</td>\n",
       "      <td>1</td>\n",
       "      <td>Juvenile Idiopathic Arthritis</td>\n",
       "      <td>2024-06-11T18:54:40.290844Z</td>\n",
       "      <td>February 17, 2017</td>\n",
       "      <td>Orencia</td>\n",
       "      <td>96</td>\n",
       "      <td>6.570</td>\n",
       "      <td>7.0</td>\n",
       "      <td>\"I loved it til I had my first reaction after ...</td>\n",
       "      <td>medium</td>\n",
       "      <td>2024-06-11T18:55:19.992298Z</td>\n",
       "      <td>2</td>\n",
       "    </tr>\n",
       "    <tr>\n",
       "      <th>4</th>\n",
       "      <td>51789</td>\n",
       "      <td>17</td>\n",
       "      <td>1</td>\n",
       "      <td>Methicillin-Resistant Staphylococcus Aureus In...</td>\n",
       "      <td>2024-06-11T18:54:44.743685Z</td>\n",
       "      <td>September 3, 2015</td>\n",
       "      <td>Zyvox</td>\n",
       "      <td>97</td>\n",
       "      <td>6.707</td>\n",
       "      <td>10.0</td>\n",
       "      <td>\"I got a breast infection that was found to be...</td>\n",
       "      <td>high</td>\n",
       "      <td>2024-06-11T18:55:31.713890Z</td>\n",
       "      <td>6</td>\n",
       "    </tr>\n",
       "  </tbody>\n",
       "</table>\n",
       "</div>"
      ],
      "text/plain": [
       "   Unnamed: 0  annotation_id  annotator  \\\n",
       "0       23386             13          1   \n",
       "1      134882             14          1   \n",
       "2      215839             15          1   \n",
       "3      187368             16          1   \n",
       "4       51789             17          1   \n",
       "\n",
       "                                           condition  \\\n",
       "0                                  Opiate Withdrawal   \n",
       "1                               Renal Cell Carcinoma   \n",
       "2                                      Birth Control   \n",
       "3                      Juvenile Idiopathic Arthritis   \n",
       "4  Methicillin-Resistant Staphylococcus Aureus In...   \n",
       "\n",
       "                    created_at               date   drugName  id  lead_time  \\\n",
       "0  2024-06-11T18:53:06.253133Z    August 15, 2013  Methadone  93      3.238   \n",
       "1  2024-06-11T18:53:35.600856Z     August 4, 2017  Pazopanib  94      3.726   \n",
       "2  2024-06-11T18:53:43.534220Z    August 19, 2016     Copper  95      2.278   \n",
       "3  2024-06-11T18:54:40.290844Z  February 17, 2017    Orencia  96      6.570   \n",
       "4  2024-06-11T18:54:44.743685Z  September 3, 2015      Zyvox  97      6.707   \n",
       "\n",
       "   rating                                             review sentiment  \\\n",
       "0    10.0  \"I&#039;ve been taking Methadone disks for 5 y...      high   \n",
       "1     9.0  \"Update-tolerating Votrient 400mg. Last 2 scan...      high   \n",
       "2     1.0  \"My first expulsion happened two days after in...       low   \n",
       "3     7.0  \"I loved it til I had my first reaction after ...    medium   \n",
       "4    10.0  \"I got a breast infection that was found to be...      high   \n",
       "\n",
       "                    updated_at  usefulCount  \n",
       "0  2024-06-11T18:53:06.253156Z           48  \n",
       "1  2024-06-11T18:53:35.600891Z            1  \n",
       "2  2024-06-11T18:53:43.534250Z            1  \n",
       "3  2024-06-11T18:55:19.992298Z            2  \n",
       "4  2024-06-11T18:55:31.713890Z            6  "
      ]
     },
     "execution_count": 20,
     "metadata": {},
     "output_type": "execute_result"
    }
   ],
   "source": [
    "subset.head()"
   ]
  },
  {
   "cell_type": "code",
   "execution_count": 19,
   "id": "601dc8f8-15e5-4093-92b9-a783a25deddf",
   "metadata": {},
   "outputs": [
    {
     "name": "stdout",
     "output_type": "stream",
     "text": [
      "<class 'pandas.core.frame.DataFrame'>\n",
      "RangeIndex: 40 entries, 0 to 39\n",
      "Data columns (total 14 columns):\n",
      " #   Column         Non-Null Count  Dtype  \n",
      "---  ------         --------------  -----  \n",
      " 0   Unnamed: 0     40 non-null     int64  \n",
      " 1   annotation_id  40 non-null     int64  \n",
      " 2   annotator      40 non-null     int64  \n",
      " 3   condition      40 non-null     object \n",
      " 4   created_at     40 non-null     object \n",
      " 5   date           40 non-null     object \n",
      " 6   drugName       40 non-null     object \n",
      " 7   id             40 non-null     int64  \n",
      " 8   lead_time      40 non-null     float64\n",
      " 9   rating         40 non-null     float64\n",
      " 10  review         40 non-null     object \n",
      " 11  sentiment      40 non-null     object \n",
      " 12  updated_at     40 non-null     object \n",
      " 13  usefulCount    40 non-null     int64  \n",
      "dtypes: float64(2), int64(5), object(7)\n",
      "memory usage: 4.5+ KB\n"
     ]
    }
   ],
   "source": [
    "subset.info()"
   ]
  },
  {
   "cell_type": "code",
   "execution_count": 22,
   "id": "de190b9b-bdb8-4595-8459-3a2309df4b00",
   "metadata": {},
   "outputs": [],
   "source": [
    "del subset['annotation_id']\n",
    "del subset['annotator']\n",
    "del subset['condition']\n",
    "del subset['updated_at']\n",
    "del subset['created_at']\n",
    "del subset['lead_time']"
   ]
  },
  {
   "cell_type": "code",
   "execution_count": 23,
   "id": "ddd4110e-7c91-491e-85b4-2a0cb6c529c2",
   "metadata": {},
   "outputs": [
    {
     "name": "stdout",
     "output_type": "stream",
     "text": [
      "<class 'pandas.core.frame.DataFrame'>\n",
      "RangeIndex: 40 entries, 0 to 39\n",
      "Data columns (total 8 columns):\n",
      " #   Column       Non-Null Count  Dtype  \n",
      "---  ------       --------------  -----  \n",
      " 0   Unnamed: 0   40 non-null     int64  \n",
      " 1   date         40 non-null     object \n",
      " 2   drugName     40 non-null     object \n",
      " 3   id           40 non-null     int64  \n",
      " 4   rating       40 non-null     float64\n",
      " 5   review       40 non-null     object \n",
      " 6   sentiment    40 non-null     object \n",
      " 7   usefulCount  40 non-null     int64  \n",
      "dtypes: float64(1), int64(3), object(4)\n",
      "memory usage: 2.6+ KB\n"
     ]
    }
   ],
   "source": [
    "subset.info()"
   ]
  },
  {
   "cell_type": "code",
   "execution_count": 21,
   "id": "9dc24522-cfaf-4cbf-b9c4-302239441a43",
   "metadata": {},
   "outputs": [
    {
     "name": "stdout",
     "output_type": "stream",
     "text": [
      "<class 'pandas.core.frame.DataFrame'>\n",
      "RangeIndex: 161297 entries, 0 to 161296\n",
      "Data columns (total 7 columns):\n",
      " #   Column       Non-Null Count   Dtype  \n",
      "---  ------       --------------   -----  \n",
      " 0   Unnamed: 0   161297 non-null  int64  \n",
      " 1   drugName     161297 non-null  object \n",
      " 2   condition    160398 non-null  object \n",
      " 3   review       161297 non-null  object \n",
      " 4   rating       161297 non-null  float64\n",
      " 5   date         161297 non-null  object \n",
      " 6   usefulCount  161297 non-null  int64  \n",
      "dtypes: float64(1), int64(2), object(4)\n",
      "memory usage: 8.6+ MB\n"
     ]
    }
   ],
   "source": [
    "df.info()"
   ]
  },
  {
   "cell_type": "code",
   "execution_count": 24,
   "id": "12c30de3-83db-4681-8f7b-19d4d44531d2",
   "metadata": {},
   "outputs": [],
   "source": [
    "del df['Unnamed: 0']\n",
    "del subset['Unnamed: 0']"
   ]
  },
  {
   "cell_type": "code",
   "execution_count": 25,
   "id": "c83efbbd-7847-4e65-add9-8e6bc1bdea57",
   "metadata": {},
   "outputs": [],
   "source": [
    "df.drop(subset.index, axis=0,inplace=True)"
   ]
  },
  {
   "cell_type": "code",
   "execution_count": 26,
   "id": "595ba81f-439d-49ef-805e-fb4862976b68",
   "metadata": {},
   "outputs": [
    {
     "data": {
      "text/plain": [
       "(161257, 6)"
      ]
     },
     "execution_count": 26,
     "metadata": {},
     "output_type": "execute_result"
    }
   ],
   "source": [
    "df.shape"
   ]
  },
  {
   "cell_type": "code",
   "execution_count": 28,
   "id": "a9b8b718-4cf7-46df-a0b2-c13797e356d5",
   "metadata": {},
   "outputs": [],
   "source": [
    "df.loc[df['rating']>=8, 'sentiment'] = 'High'\n",
    "df.loc[(df['rating']<8) & (df['rating']>=5), 'sentiment'] = 'Medium'\n",
    "df.loc[df['rating']<5, 'sentiment'] = 'Low'"
   ]
  },
  {
   "cell_type": "code",
   "execution_count": 31,
   "id": "3f008f5b-8e42-420b-a311-5a89927dd165",
   "metadata": {},
   "outputs": [],
   "source": [
    "df = pd.concat([df, subset])"
   ]
  },
  {
   "cell_type": "code",
   "execution_count": 35,
   "id": "784ee4df-5f5a-4e53-b649-e847cef717bb",
   "metadata": {},
   "outputs": [],
   "source": [
    "label_encoder = LabelEncoder()\n",
    "df['category_rating'] = label_encoder.fit_transform(df['sentiment'])"
   ]
  },
  {
   "cell_type": "code",
   "execution_count": 36,
   "id": "8f70e7f1-da96-4115-a06c-78c509228f1b",
   "metadata": {},
   "outputs": [
    {
     "data": {
      "text/html": [
       "<div>\n",
       "<style scoped>\n",
       "    .dataframe tbody tr th:only-of-type {\n",
       "        vertical-align: middle;\n",
       "    }\n",
       "\n",
       "    .dataframe tbody tr th {\n",
       "        vertical-align: top;\n",
       "    }\n",
       "\n",
       "    .dataframe thead th {\n",
       "        text-align: right;\n",
       "    }\n",
       "</style>\n",
       "<table border=\"1\" class=\"dataframe\">\n",
       "  <thead>\n",
       "    <tr style=\"text-align: right;\">\n",
       "      <th></th>\n",
       "      <th>drugName</th>\n",
       "      <th>condition</th>\n",
       "      <th>review</th>\n",
       "      <th>rating</th>\n",
       "      <th>date</th>\n",
       "      <th>usefulCount</th>\n",
       "      <th>sentiment</th>\n",
       "      <th>id</th>\n",
       "      <th>category_rating</th>\n",
       "    </tr>\n",
       "  </thead>\n",
       "  <tbody>\n",
       "    <tr>\n",
       "      <th>40</th>\n",
       "      <td>Fluconazole</td>\n",
       "      <td>Vaginal Yeast Infection</td>\n",
       "      <td>\"I am very prone to yeast infections, I believ...</td>\n",
       "      <td>8.0</td>\n",
       "      <td>April 24, 2017</td>\n",
       "      <td>9</td>\n",
       "      <td>High</td>\n",
       "      <td>NaN</td>\n",
       "      <td>0</td>\n",
       "    </tr>\n",
       "    <tr>\n",
       "      <th>41</th>\n",
       "      <td>Contrave</td>\n",
       "      <td>Obesity</td>\n",
       "      <td>\"I am just finishing my second week taking Con...</td>\n",
       "      <td>8.0</td>\n",
       "      <td>November 4, 2015</td>\n",
       "      <td>9</td>\n",
       "      <td>High</td>\n",
       "      <td>NaN</td>\n",
       "      <td>0</td>\n",
       "    </tr>\n",
       "    <tr>\n",
       "      <th>42</th>\n",
       "      <td>Clonazepam</td>\n",
       "      <td>Panic Disorde</td>\n",
       "      <td>\"This medication changed my life.  My panic at...</td>\n",
       "      <td>9.0</td>\n",
       "      <td>April 1, 2008</td>\n",
       "      <td>30</td>\n",
       "      <td>High</td>\n",
       "      <td>NaN</td>\n",
       "      <td>0</td>\n",
       "    </tr>\n",
       "    <tr>\n",
       "      <th>43</th>\n",
       "      <td>Metaxalone</td>\n",
       "      <td>Muscle Spasm</td>\n",
       "      <td>\"I have been taking this medicine due to lower...</td>\n",
       "      <td>5.0</td>\n",
       "      <td>June 4, 2014</td>\n",
       "      <td>55</td>\n",
       "      <td>Medium</td>\n",
       "      <td>NaN</td>\n",
       "      <td>2</td>\n",
       "    </tr>\n",
       "    <tr>\n",
       "      <th>44</th>\n",
       "      <td>Venlafaxine</td>\n",
       "      <td>Depression</td>\n",
       "      <td>\"my gp started me on Venlafaxine yesterday to ...</td>\n",
       "      <td>4.0</td>\n",
       "      <td>April 27, 2016</td>\n",
       "      <td>3</td>\n",
       "      <td>Low</td>\n",
       "      <td>NaN</td>\n",
       "      <td>1</td>\n",
       "    </tr>\n",
       "  </tbody>\n",
       "</table>\n",
       "</div>"
      ],
      "text/plain": [
       "       drugName                condition  \\\n",
       "40  Fluconazole  Vaginal Yeast Infection   \n",
       "41     Contrave                  Obesity   \n",
       "42   Clonazepam            Panic Disorde   \n",
       "43   Metaxalone             Muscle Spasm   \n",
       "44  Venlafaxine               Depression   \n",
       "\n",
       "                                               review  rating  \\\n",
       "40  \"I am very prone to yeast infections, I believ...     8.0   \n",
       "41  \"I am just finishing my second week taking Con...     8.0   \n",
       "42  \"This medication changed my life.  My panic at...     9.0   \n",
       "43  \"I have been taking this medicine due to lower...     5.0   \n",
       "44  \"my gp started me on Venlafaxine yesterday to ...     4.0   \n",
       "\n",
       "                date  usefulCount sentiment  id  category_rating  \n",
       "40    April 24, 2017            9      High NaN                0  \n",
       "41  November 4, 2015            9      High NaN                0  \n",
       "42     April 1, 2008           30      High NaN                0  \n",
       "43      June 4, 2014           55    Medium NaN                2  \n",
       "44    April 27, 2016            3       Low NaN                1  "
      ]
     },
     "execution_count": 36,
     "metadata": {},
     "output_type": "execute_result"
    }
   ],
   "source": [
    "df.head()"
   ]
  },
  {
   "cell_type": "code",
   "execution_count": 37,
   "id": "c00bb5c5-1b56-4fcd-857e-27eb5df04f30",
   "metadata": {},
   "outputs": [],
   "source": [
    "X_train, X_test, y_train, y_test = train_test_split(\n",
    "df['review'],\n",
    "df['category_rating'],\n",
    "test_size=0.2, \n",
    "random_state=42 \n",
    ")"
   ]
  },
  {
   "cell_type": "code",
   "execution_count": 41,
   "id": "2fe124ec-69b5-43d4-bba9-9a5412d9320b",
   "metadata": {},
   "outputs": [],
   "source": [
    "pipeline = Pipeline([\n",
    "('tfidf', TfidfVectorizer(stop_words='english')),\n",
    "('clf', LogisticRegression(max_iter=5000))\n",
    "])"
   ]
  },
  {
   "cell_type": "code",
   "execution_count": 42,
   "id": "daffa303-96c9-4d70-9fcb-914377d1faaf",
   "metadata": {},
   "outputs": [
    {
     "data": {
      "text/html": [
       "<style>#sk-container-id-2 {color: black;background-color: white;}#sk-container-id-2 pre{padding: 0;}#sk-container-id-2 div.sk-toggleable {background-color: white;}#sk-container-id-2 label.sk-toggleable__label {cursor: pointer;display: block;width: 100%;margin-bottom: 0;padding: 0.3em;box-sizing: border-box;text-align: center;}#sk-container-id-2 label.sk-toggleable__label-arrow:before {content: \"▸\";float: left;margin-right: 0.25em;color: #696969;}#sk-container-id-2 label.sk-toggleable__label-arrow:hover:before {color: black;}#sk-container-id-2 div.sk-estimator:hover label.sk-toggleable__label-arrow:before {color: black;}#sk-container-id-2 div.sk-toggleable__content {max-height: 0;max-width: 0;overflow: hidden;text-align: left;background-color: #f0f8ff;}#sk-container-id-2 div.sk-toggleable__content pre {margin: 0.2em;color: black;border-radius: 0.25em;background-color: #f0f8ff;}#sk-container-id-2 input.sk-toggleable__control:checked~div.sk-toggleable__content {max-height: 200px;max-width: 100%;overflow: auto;}#sk-container-id-2 input.sk-toggleable__control:checked~label.sk-toggleable__label-arrow:before {content: \"▾\";}#sk-container-id-2 div.sk-estimator input.sk-toggleable__control:checked~label.sk-toggleable__label {background-color: #d4ebff;}#sk-container-id-2 div.sk-label input.sk-toggleable__control:checked~label.sk-toggleable__label {background-color: #d4ebff;}#sk-container-id-2 input.sk-hidden--visually {border: 0;clip: rect(1px 1px 1px 1px);clip: rect(1px, 1px, 1px, 1px);height: 1px;margin: -1px;overflow: hidden;padding: 0;position: absolute;width: 1px;}#sk-container-id-2 div.sk-estimator {font-family: monospace;background-color: #f0f8ff;border: 1px dotted black;border-radius: 0.25em;box-sizing: border-box;margin-bottom: 0.5em;}#sk-container-id-2 div.sk-estimator:hover {background-color: #d4ebff;}#sk-container-id-2 div.sk-parallel-item::after {content: \"\";width: 100%;border-bottom: 1px solid gray;flex-grow: 1;}#sk-container-id-2 div.sk-label:hover label.sk-toggleable__label {background-color: #d4ebff;}#sk-container-id-2 div.sk-serial::before {content: \"\";position: absolute;border-left: 1px solid gray;box-sizing: border-box;top: 0;bottom: 0;left: 50%;z-index: 0;}#sk-container-id-2 div.sk-serial {display: flex;flex-direction: column;align-items: center;background-color: white;padding-right: 0.2em;padding-left: 0.2em;position: relative;}#sk-container-id-2 div.sk-item {position: relative;z-index: 1;}#sk-container-id-2 div.sk-parallel {display: flex;align-items: stretch;justify-content: center;background-color: white;position: relative;}#sk-container-id-2 div.sk-item::before, #sk-container-id-2 div.sk-parallel-item::before {content: \"\";position: absolute;border-left: 1px solid gray;box-sizing: border-box;top: 0;bottom: 0;left: 50%;z-index: -1;}#sk-container-id-2 div.sk-parallel-item {display: flex;flex-direction: column;z-index: 1;position: relative;background-color: white;}#sk-container-id-2 div.sk-parallel-item:first-child::after {align-self: flex-end;width: 50%;}#sk-container-id-2 div.sk-parallel-item:last-child::after {align-self: flex-start;width: 50%;}#sk-container-id-2 div.sk-parallel-item:only-child::after {width: 0;}#sk-container-id-2 div.sk-dashed-wrapped {border: 1px dashed gray;margin: 0 0.4em 0.5em 0.4em;box-sizing: border-box;padding-bottom: 0.4em;background-color: white;}#sk-container-id-2 div.sk-label label {font-family: monospace;font-weight: bold;display: inline-block;line-height: 1.2em;}#sk-container-id-2 div.sk-label-container {text-align: center;}#sk-container-id-2 div.sk-container {/* jupyter's `normalize.less` sets `[hidden] { display: none; }` but bootstrap.min.css set `[hidden] { display: none !important; }` so we also need the `!important` here to be able to override the default hidden behavior on the sphinx rendered scikit-learn.org. See: https://github.com/scikit-learn/scikit-learn/issues/21755 */display: inline-block !important;position: relative;}#sk-container-id-2 div.sk-text-repr-fallback {display: none;}</style><div id=\"sk-container-id-2\" class=\"sk-top-container\"><div class=\"sk-text-repr-fallback\"><pre>Pipeline(steps=[(&#x27;tfidf&#x27;, TfidfVectorizer(stop_words=&#x27;english&#x27;)),\n",
       "                (&#x27;clf&#x27;, LogisticRegression(max_iter=5000))])</pre><b>In a Jupyter environment, please rerun this cell to show the HTML representation or trust the notebook. <br />On GitHub, the HTML representation is unable to render, please try loading this page with nbviewer.org.</b></div><div class=\"sk-container\" hidden><div class=\"sk-item sk-dashed-wrapped\"><div class=\"sk-label-container\"><div class=\"sk-label sk-toggleable\"><input class=\"sk-toggleable__control sk-hidden--visually\" id=\"sk-estimator-id-4\" type=\"checkbox\" ><label for=\"sk-estimator-id-4\" class=\"sk-toggleable__label sk-toggleable__label-arrow\">Pipeline</label><div class=\"sk-toggleable__content\"><pre>Pipeline(steps=[(&#x27;tfidf&#x27;, TfidfVectorizer(stop_words=&#x27;english&#x27;)),\n",
       "                (&#x27;clf&#x27;, LogisticRegression(max_iter=5000))])</pre></div></div></div><div class=\"sk-serial\"><div class=\"sk-item\"><div class=\"sk-estimator sk-toggleable\"><input class=\"sk-toggleable__control sk-hidden--visually\" id=\"sk-estimator-id-5\" type=\"checkbox\" ><label for=\"sk-estimator-id-5\" class=\"sk-toggleable__label sk-toggleable__label-arrow\">TfidfVectorizer</label><div class=\"sk-toggleable__content\"><pre>TfidfVectorizer(stop_words=&#x27;english&#x27;)</pre></div></div></div><div class=\"sk-item\"><div class=\"sk-estimator sk-toggleable\"><input class=\"sk-toggleable__control sk-hidden--visually\" id=\"sk-estimator-id-6\" type=\"checkbox\" ><label for=\"sk-estimator-id-6\" class=\"sk-toggleable__label sk-toggleable__label-arrow\">LogisticRegression</label><div class=\"sk-toggleable__content\"><pre>LogisticRegression(max_iter=5000)</pre></div></div></div></div></div></div></div>"
      ],
      "text/plain": [
       "Pipeline(steps=[('tfidf', TfidfVectorizer(stop_words='english')),\n",
       "                ('clf', LogisticRegression(max_iter=5000))])"
      ]
     },
     "execution_count": 42,
     "metadata": {},
     "output_type": "execute_result"
    }
   ],
   "source": [
    "pipeline.fit(X_train, y_train)"
   ]
  },
  {
   "cell_type": "code",
   "execution_count": 43,
   "id": "225f23d4-73fb-4ac7-b595-dc4961e17629",
   "metadata": {},
   "outputs": [
    {
     "name": "stdout",
     "output_type": "stream",
     "text": [
      "Точность модели 0.7530378177309361\n",
      "Отчет по классификации\n",
      "              precision    recall  f1-score   support\n",
      "\n",
      "           0       0.79      0.92      0.85     19570\n",
      "           1       0.71      0.69      0.70      7926\n",
      "           2       0.47      0.15      0.23      4757\n",
      "           3       0.00      0.00      0.00         4\n",
      "           4       0.00      0.00      0.00         1\n",
      "           5       0.00      0.00      0.00         2\n",
      "\n",
      "    accuracy                           0.75     32260\n",
      "   macro avg       0.33      0.30      0.30     32260\n",
      "weighted avg       0.72      0.75      0.72     32260\n",
      "\n"
     ]
    },
    {
     "name": "stderr",
     "output_type": "stream",
     "text": [
      "/opt/anaconda3/lib/python3.11/site-packages/sklearn/metrics/_classification.py:1344: UndefinedMetricWarning: Precision and F-score are ill-defined and being set to 0.0 in labels with no predicted samples. Use `zero_division` parameter to control this behavior.\n",
      "  _warn_prf(average, modifier, msg_start, len(result))\n",
      "/opt/anaconda3/lib/python3.11/site-packages/sklearn/metrics/_classification.py:1344: UndefinedMetricWarning: Precision and F-score are ill-defined and being set to 0.0 in labels with no predicted samples. Use `zero_division` parameter to control this behavior.\n",
      "  _warn_prf(average, modifier, msg_start, len(result))\n",
      "/opt/anaconda3/lib/python3.11/site-packages/sklearn/metrics/_classification.py:1344: UndefinedMetricWarning: Precision and F-score are ill-defined and being set to 0.0 in labels with no predicted samples. Use `zero_division` parameter to control this behavior.\n",
      "  _warn_prf(average, modifier, msg_start, len(result))\n"
     ]
    }
   ],
   "source": [
    "predictions = pipeline.predict(X_test)\n",
    "accuracy = accuracy_score(y_test, predictions) \n",
    "report = classification_report(y_test, predictions)\n",
    "\n",
    "print(f\"Точность модели {accuracy}\")\n",
    "print('Отчет по классификации')\n",
    "print(report)"
   ]
  },
  {
   "cell_type": "code",
   "execution_count": null,
   "id": "c50fdb64-4a53-48be-8659-0627eac39891",
   "metadata": {},
   "outputs": [],
   "source": []
  }
 ],
 "metadata": {
  "kernelspec": {
   "display_name": "Python 3 (ipykernel)",
   "language": "python",
   "name": "python3"
  },
  "language_info": {
   "codemirror_mode": {
    "name": "ipython",
    "version": 3
   },
   "file_extension": ".py",
   "mimetype": "text/x-python",
   "name": "python",
   "nbconvert_exporter": "python",
   "pygments_lexer": "ipython3",
   "version": "3.11.5"
  }
 },
 "nbformat": 4,
 "nbformat_minor": 5
}
